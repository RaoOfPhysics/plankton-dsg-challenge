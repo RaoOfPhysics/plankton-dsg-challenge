{
 "cells": [
  {
   "cell_type": "markdown",
   "id": "70bf303b",
   "metadata": {},
   "source": [
    "# Let's explore the metadata"
   ]
  },
  {
   "cell_type": "code",
   "execution_count": 2,
   "id": "c3299299",
   "metadata": {},
   "outputs": [],
   "source": [
    "import pandas as pd"
   ]
  },
  {
   "cell_type": "markdown",
   "id": "4325c7fc",
   "metadata": {},
   "source": [
    "## Load the metadata"
   ]
  },
  {
   "cell_type": "code",
   "execution_count": 3,
   "id": "f09e1db4",
   "metadata": {},
   "outputs": [
    {
     "data": {
      "text/html": [
       "<div>\n",
       "<style scoped>\n",
       "    .dataframe tbody tr th:only-of-type {\n",
       "        vertical-align: middle;\n",
       "    }\n",
       "\n",
       "    .dataframe tbody tr th {\n",
       "        vertical-align: top;\n",
       "    }\n",
       "\n",
       "    .dataframe thead th {\n",
       "        text-align: right;\n",
       "    }\n",
       "</style>\n",
       "<table border=\"1\" class=\"dataframe\">\n",
       "  <thead>\n",
       "    <tr style=\"text-align: right;\">\n",
       "      <th></th>\n",
       "      <th>Unnamed: 0</th>\n",
       "      <th>index</th>\n",
       "      <th>filename</th>\n",
       "      <th>label1</th>\n",
       "      <th>label2</th>\n",
       "      <th>label3</th>\n",
       "    </tr>\n",
       "  </thead>\n",
       "  <tbody>\n",
       "    <tr>\n",
       "      <th>0</th>\n",
       "      <td>1</td>\n",
       "      <td>1</td>\n",
       "      <td>Pia1.2016-10-04.1801+N292_hc.tif</td>\n",
       "      <td>zooplankton</td>\n",
       "      <td>noncopepod</td>\n",
       "      <td>annelida_polychaeta</td>\n",
       "    </tr>\n",
       "    <tr>\n",
       "      <th>1</th>\n",
       "      <td>2</td>\n",
       "      <td>2</td>\n",
       "      <td>Pia1.2016-10-05.1229+N28_hc.tif</td>\n",
       "      <td>zooplankton</td>\n",
       "      <td>noncopepod</td>\n",
       "      <td>annelida_polychaeta</td>\n",
       "    </tr>\n",
       "    <tr>\n",
       "      <th>2</th>\n",
       "      <td>3</td>\n",
       "      <td>3</td>\n",
       "      <td>Pia1.2016-10-06.2118+N136_hc.tif</td>\n",
       "      <td>zooplankton</td>\n",
       "      <td>noncopepod</td>\n",
       "      <td>annelida_polychaeta</td>\n",
       "    </tr>\n",
       "    <tr>\n",
       "      <th>3</th>\n",
       "      <td>4</td>\n",
       "      <td>4</td>\n",
       "      <td>Pia1.2017-03-21.1136+N01644266_hc.tif</td>\n",
       "      <td>zooplankton</td>\n",
       "      <td>noncopepod</td>\n",
       "      <td>annelida_polychaeta</td>\n",
       "    </tr>\n",
       "    <tr>\n",
       "      <th>4</th>\n",
       "      <td>5</td>\n",
       "      <td>5</td>\n",
       "      <td>Pia1.2017-03-21.1136+N01646706_hc.tif</td>\n",
       "      <td>zooplankton</td>\n",
       "      <td>noncopepod</td>\n",
       "      <td>annelida_polychaeta</td>\n",
       "    </tr>\n",
       "  </tbody>\n",
       "</table>\n",
       "</div>"
      ],
      "text/plain": [
       "   Unnamed: 0  index                               filename       label1  \\\n",
       "0           1      1       Pia1.2016-10-04.1801+N292_hc.tif  zooplankton   \n",
       "1           2      2        Pia1.2016-10-05.1229+N28_hc.tif  zooplankton   \n",
       "2           3      3       Pia1.2016-10-06.2118+N136_hc.tif  zooplankton   \n",
       "3           4      4  Pia1.2017-03-21.1136+N01644266_hc.tif  zooplankton   \n",
       "4           5      5  Pia1.2017-03-21.1136+N01646706_hc.tif  zooplankton   \n",
       "\n",
       "       label2               label3  \n",
       "0  noncopepod  annelida_polychaeta  \n",
       "1  noncopepod  annelida_polychaeta  \n",
       "2  noncopepod  annelida_polychaeta  \n",
       "3  noncopepod  annelida_polychaeta  \n",
       "4  noncopepod  annelida_polychaeta  "
      ]
     },
     "execution_count": 3,
     "metadata": {},
     "output_type": "execute_result"
    }
   ],
   "source": [
    "df = pd.read_csv(\"../data/index.csv\")\n",
    "df.head()"
   ]
  },
  {
   "cell_type": "markdown",
   "id": "99800055",
   "metadata": {},
   "source": [
    "## Check the labels"
   ]
  },
  {
   "cell_type": "code",
   "execution_count": 4,
   "id": "2a345880",
   "metadata": {},
   "outputs": [
    {
     "data": {
      "text/plain": [
       "array(['zooplankton', 'detritus'], dtype=object)"
      ]
     },
     "execution_count": 4,
     "metadata": {},
     "output_type": "execute_result"
    }
   ],
   "source": [
    "df['label1'].unique()"
   ]
  },
  {
   "cell_type": "code",
   "execution_count": 5,
   "id": "a620d51a",
   "metadata": {},
   "outputs": [
    {
     "data": {
      "text/plain": [
       "array(['noncopepod', 'copepod', 'detritus'], dtype=object)"
      ]
     },
     "execution_count": 5,
     "metadata": {},
     "output_type": "execute_result"
    }
   ],
   "source": [
    "df['label2'].unique()"
   ]
  },
  {
   "cell_type": "code",
   "execution_count": 6,
   "id": "7daad856",
   "metadata": {},
   "outputs": [
    {
     "data": {
      "text/plain": [
       "array(['annelida_polychaeta', 'appendicularia', 'bivalvia-larvae',\n",
       "       'byrozoa-larvae', 'chaetognatha', 'cirripedia_barnacle-nauplii',\n",
       "       'cladocera', 'cladocera_evadne-spp', 'cnidaria', 'copepod_unknown',\n",
       "       'copepod_calanoida', 'copepod_calanoida_acartia-spp',\n",
       "       'copepod_calanoida_calanus-spp', 'copepod_calanoida_candacia-spp',\n",
       "       'copepod_calanoida_centropages-spp',\n",
       "       'copepod_calanoida_para-pseudocalanus-spp',\n",
       "       'copepod_calanoida_temora-spp', 'copepod_cyclopoida',\n",
       "       'copepod_cyclopoida_corycaeus-spp',\n",
       "       'copepod_cyclopoida_oithona-spp', 'copepod_cyclopoida_oncaea-spp',\n",
       "       'copepod_harpacticoida', 'copepod_nauplii',\n",
       "       'decapoda-larvae_brachyura', 'echniodermata-larvae', 'euphausiid',\n",
       "       'euphausiid_nauplii', 'fish-eggs', 'gastropoda-larva',\n",
       "       'mysideacea', 'nt-bubbles', 'nt-phyto_ceratium-spp',\n",
       "       'nt-phyto_rhizosolenia-spp', 'nt_phyto_chains', 'ostracoda',\n",
       "       'radiolaria', 'tintinnida', 'tunicata_doliolida', 'detritus'],\n",
       "      dtype=object)"
      ]
     },
     "execution_count": 6,
     "metadata": {},
     "output_type": "execute_result"
    }
   ],
   "source": [
    "df['label3'].unique()"
   ]
  },
  {
   "cell_type": "markdown",
   "id": "03a70aeb",
   "metadata": {},
   "source": [
    "## Imbalanced classes"
   ]
  },
  {
   "cell_type": "code",
   "execution_count": 7,
   "id": "0004c8ce",
   "metadata": {},
   "outputs": [
    {
     "data": {
      "text/plain": [
       "detritus                                    40000\n",
       "copepod_calanoida_para-pseudocalanus-spp     1988\n",
       "copepod_unknown                              1853\n",
       "radiolaria                                   1810\n",
       "copepod_calanoida                            1665\n",
       "copepod_nauplii                              1380\n",
       "copepod_cyclopoida_corycaeus-spp             1117\n",
       "echniodermata-larvae                          799\n",
       "copepod_calanoida_centropages-spp             773\n",
       "copepod_cyclopoida_oncaea-spp                 710\n",
       "copepod_harpacticoida                         643\n",
       "copepod_cyclopoida_oithona-spp                492\n",
       "nt-phyto_ceratium-spp                         459\n",
       "copepod_calanoida_acartia-spp                 451\n",
       "nt-bubbles                                    354\n",
       "copepod_calanoida_calanus-spp                 345\n",
       "appendicularia                                316\n",
       "cirripedia_barnacle-nauplii                   308\n",
       "nt_phyto_chains                               298\n",
       "tunicata_doliolida                            291\n",
       "cnidaria                                      252\n",
       "fish-eggs                                     200\n",
       "ostracoda                                     188\n",
       "nt-phyto_rhizosolenia-spp                     184\n",
       "bivalvia-larvae                               172\n",
       "copepod_calanoida_temora-spp                  168\n",
       "euphausiid                                    164\n",
       "gastropoda-larva                              160\n",
       "chaetognatha                                  158\n",
       "cladocera                                     148\n",
       "annelida_polychaeta                           141\n",
       "euphausiid_nauplii                            139\n",
       "mysideacea                                    132\n",
       "cladocera_evadne-spp                          128\n",
       "tintinnida                                    128\n",
       "copepod_cyclopoida                            100\n",
       "byrozoa-larvae                                 96\n",
       "copepod_calanoida_candacia-spp                 41\n",
       "decapoda-larvae_brachyura                      40\n",
       "Name: label3, dtype: int64"
      ]
     },
     "execution_count": 7,
     "metadata": {},
     "output_type": "execute_result"
    }
   ],
   "source": [
    "df['label3'].value_counts()"
   ]
  },
  {
   "cell_type": "code",
   "execution_count": null,
   "id": "657af4e8",
   "metadata": {},
   "outputs": [],
   "source": []
  }
 ],
 "metadata": {
  "kernelspec": {
   "display_name": "Python 3 (ipykernel)",
   "language": "python",
   "name": "python3"
  },
  "language_info": {
   "codemirror_mode": {
    "name": "ipython",
    "version": 3
   },
   "file_extension": ".py",
   "mimetype": "text/x-python",
   "name": "python",
   "nbconvert_exporter": "python",
   "pygments_lexer": "ipython3",
   "version": "3.9.7"
  }
 },
 "nbformat": 4,
 "nbformat_minor": 5
}
