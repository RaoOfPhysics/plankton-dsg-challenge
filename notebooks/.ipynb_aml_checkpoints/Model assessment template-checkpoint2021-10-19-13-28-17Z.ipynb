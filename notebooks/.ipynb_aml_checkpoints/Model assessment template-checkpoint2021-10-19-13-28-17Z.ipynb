{
 "cells": [
  {
   "cell_type": "code",
   "execution_count": 1,
   "id": "f8b67513",
   "metadata": {},
   "outputs": [],
   "source": [
    "import pandas as pd\n",
    "from sklearn.metrics import classification_report"
   ]
  },
  {
   "cell_type": "code",
   "execution_count": 2,
   "id": "fdf58be7",
   "metadata": {},
   "outputs": [],
   "source": [
    "UNKNOWN = pd.NA\n",
    "OTHER = 'OTHER'"
   ]
  },
  {
   "cell_type": "markdown",
   "id": "1bdbfb8b",
   "metadata": {},
   "source": [
    "### Test set"
   ]
  },
  {
   "cell_type": "code",
   "execution_count": 3,
   "id": "49f8c4ac",
   "metadata": {},
   "outputs": [
    {
     "data": {
      "text/html": [
       "<div>\n",
       "<style scoped>\n",
       "    .dataframe tbody tr th:only-of-type {\n",
       "        vertical-align: middle;\n",
       "    }\n",
       "\n",
       "    .dataframe tbody tr th {\n",
       "        vertical-align: top;\n",
       "    }\n",
       "\n",
       "    .dataframe thead th {\n",
       "        text-align: right;\n",
       "    }\n",
       "</style>\n",
       "<table border=\"1\" class=\"dataframe\">\n",
       "  <thead>\n",
       "    <tr style=\"text-align: right;\">\n",
       "      <th></th>\n",
       "      <th>level1</th>\n",
       "      <th>level2</th>\n",
       "      <th>level3</th>\n",
       "    </tr>\n",
       "  </thead>\n",
       "  <tbody>\n",
       "    <tr>\n",
       "      <th>0</th>\n",
       "      <td>Copepod</td>\n",
       "      <td>Calanoida</td>\n",
       "      <td>Acartia</td>\n",
       "    </tr>\n",
       "    <tr>\n",
       "      <th>1</th>\n",
       "      <td>Copepod</td>\n",
       "      <td>Calanoida</td>\n",
       "      <td>Calanus</td>\n",
       "    </tr>\n",
       "    <tr>\n",
       "      <th>2</th>\n",
       "      <td>Copepod</td>\n",
       "      <td>Cyclopoida</td>\n",
       "      <td>&lt;NA&gt;</td>\n",
       "    </tr>\n",
       "    <tr>\n",
       "      <th>3</th>\n",
       "      <td>Copepod</td>\n",
       "      <td>&lt;NA&gt;</td>\n",
       "      <td>&lt;NA&gt;</td>\n",
       "    </tr>\n",
       "    <tr>\n",
       "      <th>4</th>\n",
       "      <td>Cladocera</td>\n",
       "      <td>&lt;NA&gt;</td>\n",
       "      <td>&lt;NA&gt;</td>\n",
       "    </tr>\n",
       "    <tr>\n",
       "      <th>5</th>\n",
       "      <td>Cladocera</td>\n",
       "      <td>Evadne</td>\n",
       "      <td>&lt;NA&gt;</td>\n",
       "    </tr>\n",
       "  </tbody>\n",
       "</table>\n",
       "</div>"
      ],
      "text/plain": [
       "      level1      level2   level3\n",
       "0    Copepod   Calanoida  Acartia\n",
       "1    Copepod   Calanoida  Calanus\n",
       "2    Copepod  Cyclopoida     <NA>\n",
       "3    Copepod        <NA>     <NA>\n",
       "4  Cladocera        <NA>     <NA>\n",
       "5  Cladocera      Evadne     <NA>"
      ]
     },
     "execution_count": 3,
     "metadata": {},
     "output_type": "execute_result"
    }
   ],
   "source": [
    "test_set = pd.DataFrame({\n",
    "    'level1': ['Copepod',   'Copepod',   'Copepod',    'Copepod', 'Cladocera', 'Cladocera'],\n",
    "    'level2': ['Calanoida', 'Calanoida', 'Cyclopoida', UNKNOWN,   UNKNOWN,     'Evadne'],\n",
    "    'level3': ['Acartia',   'Calanus',   UNKNOWN,      UNKNOWN,   UNKNOWN,     UNKNOWN],\n",
    "})\n",
    "test_set"
   ]
  },
  {
   "cell_type": "markdown",
   "id": "e69bce09",
   "metadata": {},
   "source": [
    "### Model output"
   ]
  },
  {
   "cell_type": "code",
   "execution_count": 4,
   "id": "9163848d",
   "metadata": {},
   "outputs": [
    {
     "data": {
      "text/html": [
       "<div>\n",
       "<style scoped>\n",
       "    .dataframe tbody tr th:only-of-type {\n",
       "        vertical-align: middle;\n",
       "    }\n",
       "\n",
       "    .dataframe tbody tr th {\n",
       "        vertical-align: top;\n",
       "    }\n",
       "\n",
       "    .dataframe thead th {\n",
       "        text-align: right;\n",
       "    }\n",
       "</style>\n",
       "<table border=\"1\" class=\"dataframe\">\n",
       "  <thead>\n",
       "    <tr style=\"text-align: right;\">\n",
       "      <th></th>\n",
       "      <th>level1</th>\n",
       "      <th>level2</th>\n",
       "      <th>level3</th>\n",
       "    </tr>\n",
       "  </thead>\n",
       "  <tbody>\n",
       "    <tr>\n",
       "      <th>0</th>\n",
       "      <td>Copepod</td>\n",
       "      <td>Calanoida</td>\n",
       "      <td>Acartia</td>\n",
       "    </tr>\n",
       "    <tr>\n",
       "      <th>1</th>\n",
       "      <td>Copepod</td>\n",
       "      <td>Cyclopoida</td>\n",
       "      <td>OTHER</td>\n",
       "    </tr>\n",
       "    <tr>\n",
       "      <th>2</th>\n",
       "      <td>Copepod</td>\n",
       "      <td>Cyclopoida</td>\n",
       "      <td>Oithona</td>\n",
       "    </tr>\n",
       "    <tr>\n",
       "      <th>3</th>\n",
       "      <td>Copepod</td>\n",
       "      <td>Cyclopoida</td>\n",
       "      <td>Corycaeus</td>\n",
       "    </tr>\n",
       "    <tr>\n",
       "      <th>4</th>\n",
       "      <td>Cladocera</td>\n",
       "      <td>Evadne</td>\n",
       "      <td>OTHER</td>\n",
       "    </tr>\n",
       "    <tr>\n",
       "      <th>5</th>\n",
       "      <td>Cladocera</td>\n",
       "      <td>Evadne</td>\n",
       "      <td>OTHER</td>\n",
       "    </tr>\n",
       "  </tbody>\n",
       "</table>\n",
       "</div>"
      ],
      "text/plain": [
       "      level1      level2     level3\n",
       "0    Copepod   Calanoida    Acartia\n",
       "1    Copepod  Cyclopoida      OTHER\n",
       "2    Copepod  Cyclopoida    Oithona\n",
       "3    Copepod  Cyclopoida  Corycaeus\n",
       "4  Cladocera      Evadne      OTHER\n",
       "5  Cladocera      Evadne      OTHER"
      ]
     },
     "execution_count": 4,
     "metadata": {},
     "output_type": "execute_result"
    }
   ],
   "source": [
    "prediction_model_1 = pd.DataFrame({\n",
    "    'level1': ['Copepod',   'Copepod',    'Copepod',    'Copepod',    'Cladocera', 'Cladocera'],\n",
    "    'level2': ['Calanoida', 'Cyclopoida', 'Cyclopoida', 'Cyclopoida', 'Evadne',    'Evadne'],\n",
    "    'level3': ['Acartia',   OTHER,        'Oithona',    'Corycaeus',   OTHER,       OTHER],\n",
    "})\n",
    "prediction_model_1"
   ]
  },
  {
   "cell_type": "markdown",
   "id": "13857f92",
   "metadata": {},
   "source": [
    "### Report"
   ]
  },
  {
   "cell_type": "code",
   "execution_count": 5,
   "id": "5d527374",
   "metadata": {},
   "outputs": [],
   "source": [
    "def report(level):\n",
    "    print(\n",
    "        classification_report(\n",
    "            test_set[level][~test_set[level].isna()], \n",
    "            prediction_model_1[level][~test_set[level].isna()],\n",
    "            zero_division=0\n",
    "        )\n",
    "    )"
   ]
  },
  {
   "cell_type": "code",
   "execution_count": 6,
   "id": "d9543abb",
   "metadata": {},
   "outputs": [
    {
     "name": "stdout",
     "output_type": "stream",
     "text": [
      "              precision    recall  f1-score   support\n",
      "\n",
      "   Cladocera       1.00      1.00      1.00         2\n",
      "     Copepod       1.00      1.00      1.00         4\n",
      "\n",
      "    accuracy                           1.00         6\n",
      "   macro avg       1.00      1.00      1.00         6\n",
      "weighted avg       1.00      1.00      1.00         6\n",
      "\n"
     ]
    }
   ],
   "source": [
    "report('level1')"
   ]
  },
  {
   "cell_type": "code",
   "execution_count": 7,
   "id": "cfb1f2b3",
   "metadata": {},
   "outputs": [
    {
     "name": "stdout",
     "output_type": "stream",
     "text": [
      "              precision    recall  f1-score   support\n",
      "\n",
      "   Calanoida       1.00      0.50      0.67         2\n",
      "  Cyclopoida       0.50      1.00      0.67         1\n",
      "      Evadne       1.00      1.00      1.00         1\n",
      "\n",
      "    accuracy                           0.75         4\n",
      "   macro avg       0.83      0.83      0.78         4\n",
      "weighted avg       0.88      0.75      0.75         4\n",
      "\n"
     ]
    }
   ],
   "source": [
    "# Should use ('level1', 'level2')\n",
    "report('level2')"
   ]
  },
  {
   "cell_type": "code",
   "execution_count": 8,
   "id": "d94484cc",
   "metadata": {},
   "outputs": [
    {
     "name": "stdout",
     "output_type": "stream",
     "text": [
      "              precision    recall  f1-score   support\n",
      "\n",
      "     Acartia       1.00      1.00      1.00         1\n",
      "     Calanus       0.00      0.00      0.00         1\n",
      "       OTHER       0.00      0.00      0.00         0\n",
      "\n",
      "    accuracy                           0.50         2\n",
      "   macro avg       0.33      0.33      0.33         2\n",
      "weighted avg       0.50      0.50      0.50         2\n",
      "\n"
     ]
    }
   ],
   "source": [
    "# Should use ('level1', 'level2', 'level3')\n",
    "report('level3')"
   ]
  }
 ],
 "metadata": {
  "kernelspec": {
   "display_name": "Python 3 (ipykernel)",
   "language": "python",
   "name": "python3"
  },
  "language_info": {
   "codemirror_mode": {
    "name": "ipython",
    "version": 3
   },
   "file_extension": ".py",
   "mimetype": "text/x-python",
   "name": "python",
   "nbconvert_exporter": "python",
   "pygments_lexer": "ipython3",
   "version": "3.8.2"
  }
 },
 "nbformat": 4,
 "nbformat_minor": 5
}
